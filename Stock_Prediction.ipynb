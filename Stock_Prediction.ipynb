{
  "nbformat": 4,
  "nbformat_minor": 0,
  "metadata": {
    "colab": {
      "name": "Stock Prediction.ipynb",
      "version": "0.3.2",
      "provenance": [],
      "collapsed_sections": [
        "2Hnpawr5nAJq"
      ],
      "include_colab_link": true
    },
    "kernelspec": {
      "name": "python3",
      "display_name": "Python 3"
    }
  },
  "cells": [
    {
      "cell_type": "markdown",
      "metadata": {
        "id": "view-in-github",
        "colab_type": "text"
      },
      "source": [
        "<a href=\"https://colab.research.google.com/github/lejimmy/yahoo-finance-stock-prediction/blob/master/Stock_Prediction.ipynb\" target=\"_parent\"><img src=\"https://colab.research.google.com/assets/colab-badge.svg\" alt=\"Open In Colab\"/></a>"
      ]
    },
    {
      "cell_type": "markdown",
      "metadata": {
        "id": "E71NzMSjaRE1",
        "colab_type": "text"
      },
      "source": [
        "# Homework Assignment: Stock Prediction\n",
        "\n",
        "The homework for this week is to build 3 different types of regression lines to predict stock prices using Python, then print out the prediction for the best performing one.\n",
        "\n",
        "**Step 1** - Go to Yahoo Finance and find a stock price that you want to predict. Click on historical data, then download the CSV of that stocks price history https://finance.yahoo.com/quote/AAPL/history?p=AAPL  \n",
        "\n",
        "**Step 2** - Use Scikit learn to try out 3 different types of regression models to predict the price of that stock for a future date. See this https://towardsdatascience.com/in-12-minutes-stocks-analysis-with-pandas-and-scikit-learn-a8d8a7b50ee7  as an example and the scikit learn docs to see all the different types of regression models you can easily build (i.e quadratic, linear, lasso, ridge, etc.)\n",
        "\n",
        "**Step 3** - Visualize your result using matplotlib or another plotting library of your choice\n",
        "\n",
        "Once your code is complete, upload it to GitHub and send the github link to gradedhomeworkassignments@gmail.com with your full name as the subject line.  Good luck!"
      ]
    },
    {
      "cell_type": "markdown",
      "metadata": {
        "id": "jZpvATAAahZG",
        "colab_type": "text"
      },
      "source": [
        "## Step 1: Download stock prices from Yahoo Finance\n",
        "\n",
        "First we'll connect and authenticate Drive.  This will allow us to save our results directly to Google Drive."
      ]
    },
    {
      "cell_type": "code",
      "metadata": {
        "id": "rIuPS_e4a4at",
        "colab_type": "code",
        "outputId": "112ae8f2-b63d-4c9d-a77a-1fc92b41c714",
        "colab": {
          "base_uri": "https://localhost:8080/",
          "height": 122
        }
      },
      "source": [
        "# drive to connect with Google Drive\n",
        "from google.colab import drive\n",
        "drive.mount('drive', force_remount=True)"
      ],
      "execution_count": 1,
      "outputs": [
        {
          "output_type": "stream",
          "text": [
            "Go to this URL in a browser: https://accounts.google.com/o/oauth2/auth?client_id=947318989803-6bn6qk8qdgf4n4g3pfee6491hc0brc4i.apps.googleusercontent.com&redirect_uri=urn%3Aietf%3Awg%3Aoauth%3A2.0%3Aoob&scope=email%20https%3A%2F%2Fwww.googleapis.com%2Fauth%2Fdocs.test%20https%3A%2F%2Fwww.googleapis.com%2Fauth%2Fdrive%20https%3A%2F%2Fwww.googleapis.com%2Fauth%2Fdrive.photos.readonly%20https%3A%2F%2Fwww.googleapis.com%2Fauth%2Fpeopleapi.readonly&response_type=code\n",
            "\n",
            "Enter your authorization code:\n",
            "··········\n",
            "Mounted at drive\n"
          ],
          "name": "stdout"
        }
      ]
    },
    {
      "cell_type": "code",
      "metadata": {
        "id": "NlRkji6oa3X4",
        "colab_type": "code",
        "outputId": "082616ce-cddf-4ccc-db02-d5ff08f9c446",
        "colab": {
          "base_uri": "https://localhost:8080/",
          "height": 34
        }
      },
      "source": [
        "# change directory to folder you want to save files\n",
        "%cd \"/content/drive/My Drive/Colab Notebooks/Make Money with Machine Learning Course/\""
      ],
      "execution_count": 2,
      "outputs": [
        {
          "output_type": "stream",
          "text": [
            "/content/drive/My Drive/Colab Notebooks/Make Money with Machine Learning Course\n"
          ],
          "name": "stdout"
        }
      ]
    },
    {
      "cell_type": "markdown",
      "metadata": {
        "id": "T5kn9GbIcGo-",
        "colab_type": "text"
      },
      "source": [
        "Next, we import some common tools for data processing and visualizations."
      ]
    },
    {
      "cell_type": "code",
      "metadata": {
        "id": "Te_ZTCuKaPxZ",
        "colab_type": "code",
        "colab": {}
      },
      "source": [
        "# numpy for matrix math & data pre-processing\n",
        "import numpy as np\n",
        "\n",
        "# pandas for data formatting\n",
        "import pandas as pd\n",
        "\n",
        "# matplotlib and seaborn for plotting\n",
        "import matplotlib.pyplot as plt\n",
        "import seaborn as sns\n",
        "\n",
        "sns.set()"
      ],
      "execution_count": 0,
      "outputs": []
    },
    {
      "cell_type": "markdown",
      "metadata": {
        "id": "oNOc32kJbaBn",
        "colab_type": "text"
      },
      "source": [
        "Next, we'll install and import a couple of tools to help us access Yahoo Finance and read them directly into pandas."
      ]
    },
    {
      "cell_type": "code",
      "metadata": {
        "id": "U095bIyDasIR",
        "colab_type": "code",
        "outputId": "7bba590a-595c-4306-90d8-1be80efcdf72",
        "colab": {
          "base_uri": "https://localhost:8080/",
          "height": 357
        }
      },
      "source": [
        "# yfinance library to access yahoo finance\n",
        "!pip install yfinance --upgrade --no-cache-dir"
      ],
      "execution_count": 4,
      "outputs": [
        {
          "output_type": "stream",
          "text": [
            "Collecting yfinance\n",
            "  Downloading https://files.pythonhosted.org/packages/53/0e/40387099824c98be22cd7e33a620e9d38b61998b031f0b33f0b9959717d2/yfinance-0.1.45.tar.gz\n",
            "Requirement already satisfied, skipping upgrade: pandas>=0.24 in /usr/local/lib/python3.6/dist-packages (from yfinance) (0.24.2)\n",
            "Requirement already satisfied, skipping upgrade: numpy>=1.15 in /usr/local/lib/python3.6/dist-packages (from yfinance) (1.16.5)\n",
            "Requirement already satisfied, skipping upgrade: requests>=2.20 in /usr/local/lib/python3.6/dist-packages (from yfinance) (2.21.0)\n",
            "Requirement already satisfied, skipping upgrade: multitasking>=0.0.7 in /usr/local/lib/python3.6/dist-packages (from yfinance) (0.0.9)\n",
            "Requirement already satisfied, skipping upgrade: python-dateutil>=2.5.0 in /usr/local/lib/python3.6/dist-packages (from pandas>=0.24->yfinance) (2.5.3)\n",
            "Requirement already satisfied, skipping upgrade: pytz>=2011k in /usr/local/lib/python3.6/dist-packages (from pandas>=0.24->yfinance) (2018.9)\n",
            "Requirement already satisfied, skipping upgrade: chardet<3.1.0,>=3.0.2 in /usr/local/lib/python3.6/dist-packages (from requests>=2.20->yfinance) (3.0.4)\n",
            "Requirement already satisfied, skipping upgrade: certifi>=2017.4.17 in /usr/local/lib/python3.6/dist-packages (from requests>=2.20->yfinance) (2019.6.16)\n",
            "Requirement already satisfied, skipping upgrade: idna<2.9,>=2.5 in /usr/local/lib/python3.6/dist-packages (from requests>=2.20->yfinance) (2.8)\n",
            "Requirement already satisfied, skipping upgrade: urllib3<1.25,>=1.21.1 in /usr/local/lib/python3.6/dist-packages (from requests>=2.20->yfinance) (1.24.3)\n",
            "Requirement already satisfied, skipping upgrade: six>=1.5 in /usr/local/lib/python3.6/dist-packages (from python-dateutil>=2.5.0->pandas>=0.24->yfinance) (1.12.0)\n",
            "Building wheels for collected packages: yfinance\n",
            "  Building wheel for yfinance (setup.py) ... \u001b[?25l\u001b[?25hdone\n",
            "  Created wheel for yfinance: filename=yfinance-0.1.45-cp36-none-any.whl size=14652 sha256=fc3ca8a3c01e5d55442186d500d61ba71e0f30bede903221255d1c3349aeb11c\n",
            "  Stored in directory: /tmp/pip-ephem-wheel-cache-rnifr4io/wheels/0c/d1/df/aa9a7744a4ac353cc9a1f2c3aaea7c1f457fc49de4286f2d88\n",
            "Successfully built yfinance\n",
            "Installing collected packages: yfinance\n",
            "Successfully installed yfinance-0.1.45\n"
          ],
          "name": "stdout"
        }
      ]
    },
    {
      "cell_type": "code",
      "metadata": {
        "id": "wwC_1xx2bYhN",
        "colab_type": "code",
        "colab": {}
      },
      "source": [
        "# pdr for reading csv files\n",
        "from pandas_datareader import data as pdr\n",
        "# yf for reading into pandas\n",
        "import fix_yahoo_finance as yf\n",
        "\n",
        "# override pandas datareader\n",
        "yf.pdr_override()"
      ],
      "execution_count": 0,
      "outputs": []
    },
    {
      "cell_type": "markdown",
      "metadata": {
        "id": "fskAlF6dcX-b",
        "colab_type": "text"
      },
      "source": [
        "For this homework assignment I decided to choose the S&P 500 (^GSPC) index.  We will grab data from the beginning of 2018 to now."
      ]
    },
    {
      "cell_type": "code",
      "metadata": {
        "id": "gkBMuo6Ja7Df",
        "colab_type": "code",
        "outputId": "1e819a65-8b39-4b31-9c83-0922028b4b80",
        "colab": {
          "base_uri": "https://localhost:8080/",
          "height": 34
        }
      },
      "source": [
        "# read stock ticker data into a data frame, reset the index\n",
        "ticker = 'TSLA'\n",
        "\n",
        "dataframe = pdr.get_data_yahoo(ticker, start='2010-01-01').reset_index()\n",
        "dataframe.to_csv(ticker + \".csv\", index=False)"
      ],
      "execution_count": 6,
      "outputs": [
        {
          "output_type": "stream",
          "text": [
            "[*********************100%***********************]  1 of 1 downloaded\n"
          ],
          "name": "stdout"
        }
      ]
    },
    {
      "cell_type": "markdown",
      "metadata": {
        "id": "JiqzCwYyc57Q",
        "colab_type": "text"
      },
      "source": [
        "Let's preview the first 5 lines:"
      ]
    },
    {
      "cell_type": "code",
      "metadata": {
        "id": "1gFcp7DvctuT",
        "colab_type": "code",
        "outputId": "12860e22-de9a-40ab-c623-a7a355d0d05b",
        "colab": {
          "base_uri": "https://localhost:8080/",
          "height": 204
        }
      },
      "source": [
        "# display first 5 rows\n",
        "dataframe.head()"
      ],
      "execution_count": 7,
      "outputs": [
        {
          "output_type": "execute_result",
          "data": {
            "text/html": [
              "<div>\n",
              "<style scoped>\n",
              "    .dataframe tbody tr th:only-of-type {\n",
              "        vertical-align: middle;\n",
              "    }\n",
              "\n",
              "    .dataframe tbody tr th {\n",
              "        vertical-align: top;\n",
              "    }\n",
              "\n",
              "    .dataframe thead th {\n",
              "        text-align: right;\n",
              "    }\n",
              "</style>\n",
              "<table border=\"1\" class=\"dataframe\">\n",
              "  <thead>\n",
              "    <tr style=\"text-align: right;\">\n",
              "      <th></th>\n",
              "      <th>Date</th>\n",
              "      <th>Open</th>\n",
              "      <th>High</th>\n",
              "      <th>Low</th>\n",
              "      <th>Close</th>\n",
              "      <th>Adj Close</th>\n",
              "      <th>Volume</th>\n",
              "    </tr>\n",
              "  </thead>\n",
              "  <tbody>\n",
              "    <tr>\n",
              "      <th>0</th>\n",
              "      <td>2010-06-29</td>\n",
              "      <td>19.000000</td>\n",
              "      <td>25.00</td>\n",
              "      <td>17.540001</td>\n",
              "      <td>23.889999</td>\n",
              "      <td>23.889999</td>\n",
              "      <td>18766300</td>\n",
              "    </tr>\n",
              "    <tr>\n",
              "      <th>1</th>\n",
              "      <td>2010-06-30</td>\n",
              "      <td>25.790001</td>\n",
              "      <td>30.42</td>\n",
              "      <td>23.299999</td>\n",
              "      <td>23.830000</td>\n",
              "      <td>23.830000</td>\n",
              "      <td>17187100</td>\n",
              "    </tr>\n",
              "    <tr>\n",
              "      <th>2</th>\n",
              "      <td>2010-07-01</td>\n",
              "      <td>25.000000</td>\n",
              "      <td>25.92</td>\n",
              "      <td>20.270000</td>\n",
              "      <td>21.959999</td>\n",
              "      <td>21.959999</td>\n",
              "      <td>8218800</td>\n",
              "    </tr>\n",
              "    <tr>\n",
              "      <th>3</th>\n",
              "      <td>2010-07-02</td>\n",
              "      <td>23.000000</td>\n",
              "      <td>23.10</td>\n",
              "      <td>18.709999</td>\n",
              "      <td>19.200001</td>\n",
              "      <td>19.200001</td>\n",
              "      <td>5139800</td>\n",
              "    </tr>\n",
              "    <tr>\n",
              "      <th>4</th>\n",
              "      <td>2010-07-06</td>\n",
              "      <td>20.000000</td>\n",
              "      <td>20.00</td>\n",
              "      <td>15.830000</td>\n",
              "      <td>16.110001</td>\n",
              "      <td>16.110001</td>\n",
              "      <td>6866900</td>\n",
              "    </tr>\n",
              "  </tbody>\n",
              "</table>\n",
              "</div>"
            ],
            "text/plain": [
              "        Date       Open   High        Low      Close  Adj Close    Volume\n",
              "0 2010-06-29  19.000000  25.00  17.540001  23.889999  23.889999  18766300\n",
              "1 2010-06-30  25.790001  30.42  23.299999  23.830000  23.830000  17187100\n",
              "2 2010-07-01  25.000000  25.92  20.270000  21.959999  21.959999   8218800\n",
              "3 2010-07-02  23.000000  23.10  18.709999  19.200001  19.200001   5139800\n",
              "4 2010-07-06  20.000000  20.00  15.830000  16.110001  16.110001   6866900"
            ]
          },
          "metadata": {
            "tags": []
          },
          "execution_count": 7
        }
      ]
    },
    {
      "cell_type": "markdown",
      "metadata": {
        "id": "38p9KlvNjDrR",
        "colab_type": "text"
      },
      "source": [
        "So it looks like we have the `Date`, the price the stock `Open`ed at, the `High` for the day, the `Low` for the day, the price the stock `Close`d at, and the `Volume` of trades for the day.\n",
        "\n",
        "The `Adj Close` is the [closing price after adjustments for applicable splits and dividend distributions.](https://help.yahoo.com/kb/SLN28256.html?guccounter=1&guce_referrer=aHR0cHM6Ly93d3cuZ29vZ2xlLmNvbS8&guce_referrer_sig=AQAAAJh0n2Hm8FNdMS6st1eDjVCJv2GA1yBEYXtryrFngTRxXWqdFSnjY7Q1dXiLMopqjBRYej1O_4idlnELsxpsPPxVI2OihltyG_scon1Rsw7sjTxcX2SwmHHb1O76tKUd2-8bktaM6qfoXZrdqT-IiLC8cIXnyz2RLuAgxUVBrK-p)"
      ]
    },
    {
      "cell_type": "markdown",
      "metadata": {
        "id": "UnxlNqNLhx5L",
        "colab_type": "text"
      },
      "source": [
        "Let's also check if there is any missing data:"
      ]
    },
    {
      "cell_type": "code",
      "metadata": {
        "id": "STuKjHQ-hxMM",
        "colab_type": "code",
        "outputId": "f61d41d9-ef28-4a7e-f60b-38dea6c7f734",
        "colab": {
          "base_uri": "https://localhost:8080/",
          "height": 221
        }
      },
      "source": [
        "# summary of dataframe\n",
        "dataframe.info()"
      ],
      "execution_count": 8,
      "outputs": [
        {
          "output_type": "stream",
          "text": [
            "<class 'pandas.core.frame.DataFrame'>\n",
            "RangeIndex: 2319 entries, 0 to 2318\n",
            "Data columns (total 7 columns):\n",
            "Date         2319 non-null datetime64[ns]\n",
            "Open         2319 non-null float64\n",
            "High         2319 non-null float64\n",
            "Low          2319 non-null float64\n",
            "Close        2319 non-null float64\n",
            "Adj Close    2319 non-null float64\n",
            "Volume       2319 non-null int64\n",
            "dtypes: datetime64[ns](1), float64(5), int64(1)\n",
            "memory usage: 126.9 KB\n"
          ],
          "name": "stdout"
        }
      ]
    },
    {
      "cell_type": "markdown",
      "metadata": {
        "id": "lma8O-6aiOFA",
        "colab_type": "text"
      },
      "source": [
        "And get a numerical summary of our columns:"
      ]
    },
    {
      "cell_type": "code",
      "metadata": {
        "id": "pjQTit5FiNrJ",
        "colab_type": "code",
        "outputId": "1f2bf647-85e1-4c9a-aeee-80f401a44eb1",
        "colab": {
          "base_uri": "https://localhost:8080/",
          "height": 297
        }
      },
      "source": [
        "# numerical summary of dataframe\n",
        "dataframe.describe()"
      ],
      "execution_count": 9,
      "outputs": [
        {
          "output_type": "execute_result",
          "data": {
            "text/html": [
              "<div>\n",
              "<style scoped>\n",
              "    .dataframe tbody tr th:only-of-type {\n",
              "        vertical-align: middle;\n",
              "    }\n",
              "\n",
              "    .dataframe tbody tr th {\n",
              "        vertical-align: top;\n",
              "    }\n",
              "\n",
              "    .dataframe thead th {\n",
              "        text-align: right;\n",
              "    }\n",
              "</style>\n",
              "<table border=\"1\" class=\"dataframe\">\n",
              "  <thead>\n",
              "    <tr style=\"text-align: right;\">\n",
              "      <th></th>\n",
              "      <th>Open</th>\n",
              "      <th>High</th>\n",
              "      <th>Low</th>\n",
              "      <th>Close</th>\n",
              "      <th>Adj Close</th>\n",
              "      <th>Volume</th>\n",
              "    </tr>\n",
              "  </thead>\n",
              "  <tbody>\n",
              "    <tr>\n",
              "      <th>count</th>\n",
              "      <td>2319.000000</td>\n",
              "      <td>2319.000000</td>\n",
              "      <td>2319.000000</td>\n",
              "      <td>2319.000000</td>\n",
              "      <td>2319.000000</td>\n",
              "      <td>2.319000e+03</td>\n",
              "    </tr>\n",
              "    <tr>\n",
              "      <th>mean</th>\n",
              "      <td>178.960781</td>\n",
              "      <td>182.062398</td>\n",
              "      <td>175.675947</td>\n",
              "      <td>178.960923</td>\n",
              "      <td>178.960923</td>\n",
              "      <td>5.317205e+06</td>\n",
              "    </tr>\n",
              "    <tr>\n",
              "      <th>std</th>\n",
              "      <td>113.382607</td>\n",
              "      <td>115.128437</td>\n",
              "      <td>111.505895</td>\n",
              "      <td>113.389493</td>\n",
              "      <td>113.389493</td>\n",
              "      <td>4.665792e+06</td>\n",
              "    </tr>\n",
              "    <tr>\n",
              "      <th>min</th>\n",
              "      <td>16.139999</td>\n",
              "      <td>16.629999</td>\n",
              "      <td>14.980000</td>\n",
              "      <td>15.800000</td>\n",
              "      <td>15.800000</td>\n",
              "      <td>1.185000e+05</td>\n",
              "    </tr>\n",
              "    <tr>\n",
              "      <th>25%</th>\n",
              "      <td>33.820000</td>\n",
              "      <td>34.459999</td>\n",
              "      <td>33.160000</td>\n",
              "      <td>33.810001</td>\n",
              "      <td>33.810001</td>\n",
              "      <td>1.750850e+06</td>\n",
              "    </tr>\n",
              "    <tr>\n",
              "      <th>50%</th>\n",
              "      <td>209.020004</td>\n",
              "      <td>212.990005</td>\n",
              "      <td>205.800003</td>\n",
              "      <td>208.449997</td>\n",
              "      <td>208.449997</td>\n",
              "      <td>4.400700e+06</td>\n",
              "    </tr>\n",
              "    <tr>\n",
              "      <th>75%</th>\n",
              "      <td>261.125000</td>\n",
              "      <td>264.604996</td>\n",
              "      <td>255.775001</td>\n",
              "      <td>260.945007</td>\n",
              "      <td>260.945007</td>\n",
              "      <td>7.132800e+06</td>\n",
              "    </tr>\n",
              "    <tr>\n",
              "      <th>max</th>\n",
              "      <td>386.690002</td>\n",
              "      <td>389.609985</td>\n",
              "      <td>379.350006</td>\n",
              "      <td>385.000000</td>\n",
              "      <td>385.000000</td>\n",
              "      <td>3.716390e+07</td>\n",
              "    </tr>\n",
              "  </tbody>\n",
              "</table>\n",
              "</div>"
            ],
            "text/plain": [
              "              Open         High  ...    Adj Close        Volume\n",
              "count  2319.000000  2319.000000  ...  2319.000000  2.319000e+03\n",
              "mean    178.960781   182.062398  ...   178.960923  5.317205e+06\n",
              "std     113.382607   115.128437  ...   113.389493  4.665792e+06\n",
              "min      16.139999    16.629999  ...    15.800000  1.185000e+05\n",
              "25%      33.820000    34.459999  ...    33.810001  1.750850e+06\n",
              "50%     209.020004   212.990005  ...   208.449997  4.400700e+06\n",
              "75%     261.125000   264.604996  ...   260.945007  7.132800e+06\n",
              "max     386.690002   389.609985  ...   385.000000  3.716390e+07\n",
              "\n",
              "[8 rows x 6 columns]"
            ]
          },
          "metadata": {
            "tags": []
          },
          "execution_count": 9
        }
      ]
    },
    {
      "cell_type": "markdown",
      "metadata": {
        "id": "25B-b4kvkEme",
        "colab_type": "text"
      },
      "source": [
        "Before we visualize our data, let's split our data into it's training and testing data sets in the following section.\n",
        "\n",
        "This is best practice to not prevent unconscious bias to our results."
      ]
    },
    {
      "cell_type": "markdown",
      "metadata": {
        "id": "SNXHkDr6dTdT",
        "colab_type": "text"
      },
      "source": [
        "## Step 2: Use Linear Regression to predict prices for a future date.\n",
        "\n",
        "### Prepare Data for Machine Learning Algorithms\n",
        "\n",
        "For each Linear Regression model, we'll read in a clean copy of the data:"
      ]
    },
    {
      "cell_type": "code",
      "metadata": {
        "id": "tPBn9gmic8eT",
        "colab_type": "code",
        "colab": {}
      },
      "source": [
        "# read in a copy of csv and convert Date from string to datetime\n",
        "df_full = pd.read_csv(ticker + \".csv\", parse_dates=['Date'])"
      ],
      "execution_count": 0,
      "outputs": []
    },
    {
      "cell_type": "markdown",
      "metadata": {
        "id": "wDc6uvMhxidi",
        "colab_type": "text"
      },
      "source": [
        "To prepare the data for our machine learning algorithm, we'll convert `Date` column from a `datetime` datatype to an integer."
      ]
    },
    {
      "cell_type": "code",
      "metadata": {
        "id": "Zy2GOLfxuC8O",
        "colab_type": "code",
        "colab": {}
      },
      "source": [
        "# import datetime to convert date to ordinal\n",
        "import datetime as dt\n",
        "\n",
        "df_full['Date'] = df_full['Date'].apply(lambda x: x.toordinal())"
      ],
      "execution_count": 0,
      "outputs": []
    },
    {
      "cell_type": "markdown",
      "metadata": {
        "id": "J-nt4cpJx1-t",
        "colab_type": "text"
      },
      "source": [
        "We can use the following line of code later if we need to convert the date back into a `datetime`."
      ]
    },
    {
      "cell_type": "code",
      "metadata": {
        "id": "p0dXSIWQvuaF",
        "colab_type": "code",
        "colab": {}
      },
      "source": [
        "# to convert back to datetime\n",
        "# df_full['Date'].apply(dt.datetime.fromordinal)"
      ],
      "execution_count": 0,
      "outputs": []
    },
    {
      "cell_type": "markdown",
      "metadata": {
        "id": "TVurGLpGriVf",
        "colab_type": "text"
      },
      "source": [
        "Next, we'll separate our data features (X) from the value we want to predict aka labels (y):"
      ]
    },
    {
      "cell_type": "code",
      "metadata": {
        "id": "SSZ-47AjrLwk",
        "colab_type": "code",
        "colab": {}
      },
      "source": [
        "X = df_full.drop('Adj Close', axis=1)"
      ],
      "execution_count": 0,
      "outputs": []
    },
    {
      "cell_type": "code",
      "metadata": {
        "id": "wbFPXwszrczz",
        "colab_type": "code",
        "colab": {}
      },
      "source": [
        "y = df_full['Adj Close']"
      ],
      "execution_count": 0,
      "outputs": []
    },
    {
      "cell_type": "markdown",
      "metadata": {
        "id": "-yoSRpIQr81A",
        "colab_type": "text"
      },
      "source": [
        "Next, we'll separate the data into a 90/10 ratio for our training and testing data set:"
      ]
    },
    {
      "cell_type": "code",
      "metadata": {
        "id": "BhrHuFOdsKFB",
        "colab_type": "code",
        "colab": {}
      },
      "source": [
        "# testing ratio of 90%\n",
        "train_ratio = 0.90\n",
        "\n",
        "# training size\n",
        "train_size = int(len(X) * train_ratio)"
      ],
      "execution_count": 0,
      "outputs": []
    },
    {
      "cell_type": "code",
      "metadata": {
        "id": "Y6oa5U4Nxy_e",
        "colab_type": "code",
        "colab": {}
      },
      "source": [
        "# split X and y into training and testing sets\n",
        "X_train, X_test = X.loc[:train_size-1], X.loc[train_size:]\n",
        "y_train, y_test = y.loc[:train_size-1], y.loc[train_size:]"
      ],
      "execution_count": 0,
      "outputs": []
    },
    {
      "cell_type": "markdown",
      "metadata": {
        "id": "hG0FSIDDzv8B",
        "colab_type": "text"
      },
      "source": [
        "Now that our data is separated, let's plot our training set only."
      ]
    },
    {
      "cell_type": "code",
      "metadata": {
        "id": "xuEb-fsbi16Z",
        "colab_type": "code",
        "outputId": "07734e72-f9ac-4d30-d03b-b8e2b8581561",
        "colab": {
          "base_uri": "https://localhost:8080/",
          "height": 532
        }
      },
      "source": [
        "# create plot with dimension 8 x 6\n",
        "f, ax = plt.subplots(figsize=(8,6))\n",
        "\n",
        "# plot the dataframe, Date as x axis, Adj Close as y axis\n",
        "ax = sns.lineplot(x = X_train['Date'].apply(dt.datetime.fromordinal), y = y_train.values)\n",
        "ax = sns.lineplot(x = X_test['Date'].apply(dt.datetime.fromordinal), y = y_test.values)\n",
        "plt.title(ticker);"
      ],
      "execution_count": 17,
      "outputs": [
        {
          "output_type": "stream",
          "text": [
            "/usr/local/lib/python3.6/dist-packages/pandas/plotting/_converter.py:129: FutureWarning: Using an implicitly registered datetime converter for a matplotlib plotting method. The converter was registered by pandas on import. Future versions of pandas will require you to explicitly register matplotlib converters.\n",
            "\n",
            "To register the converters:\n",
            "\t>>> from pandas.plotting import register_matplotlib_converters\n",
            "\t>>> register_matplotlib_converters()\n",
            "  warnings.warn(msg, FutureWarning)\n"
          ],
          "name": "stderr"
        },
        {
          "output_type": "display_data",
          "data": {
            "image/png": "[encoded data removed]",
            "text/plain": [
              "<Figure size 576x432 with 1 Axes>"
            ]
          },
          "metadata": {
            "tags": []
          }
        }
      ]
    },
    {
      "cell_type": "markdown",
      "metadata": {
        "id": "vfNgHETK5Wi2",
        "colab_type": "text"
      },
      "source": [
        "## Feature Scaling\n",
        "\n",
        "Since most Machine Learning algorithms don't perform well when the numerical input attributes have very different scales, we will utilize Scikit-Learn's transformer called `StandardScaler` for standardization.\n",
        "\n",
        "The `StandardScaler` will subtract each attribute by the mean of the attribute and divide by its standard deviation."
      ]
    },
    {
      "cell_type": "code",
      "metadata": {
        "id": "8ElRphaV53Mr",
        "colab_type": "code",
        "outputId": "45246306-faff-452e-90fa-2b69efcb3724",
        "colab": {
          "base_uri": "https://localhost:8080/",
          "height": 238
        }
      },
      "source": [
        "from sklearn.pipeline import Pipeline\n",
        "from sklearn.preprocessing import MinMaxScaler\n",
        "\n",
        "# Pipeline constructor\n",
        "full_pipeline = Pipeline([\n",
        "        ('std_scaler', MinMaxScaler()),\n",
        "])\n",
        "\n",
        "# call the pipeline, fit and transform our features\n",
        "X_prepared = full_pipeline.fit_transform(X_train)\n",
        "X_prepared"
      ],
      "execution_count": 18,
      "outputs": [
        {
          "output_type": "execute_result",
          "data": {
            "text/plain": [
              "array([[0.00000000e+00, 7.71825928e-03, 2.24408851e-02, 7.02582803e-03,\n",
              "        2.19122400e-02, 5.03376937e-01],\n",
              "       [3.30578512e-04, 2.60423746e-02, 3.69724959e-02, 2.28339294e-02,\n",
              "        2.17497291e-02, 4.60748163e-01],\n",
              "       [6.61157025e-04, 2.39104060e-02, 2.49075054e-02, 1.45182093e-02,\n",
              "        1.66847210e-02, 2.18658727e-01],\n",
              "       ...,\n",
              "       [9.99338843e-01, 6.70300872e-01, 6.73306934e-01, 6.42259231e-01,\n",
              "        6.35861316e-01, 3.60482003e-01],\n",
              "       [9.99669421e-01, 6.45284035e-01, 6.70652580e-01, 6.54060431e-01,\n",
              "        6.69014052e-01, 3.22363910e-01],\n",
              "       [1.00000000e+00, 6.70543743e-01, 6.67274439e-01, 6.38883553e-01,\n",
              "        6.52979428e-01, 3.42736210e-01]])"
            ]
          },
          "metadata": {
            "tags": []
          },
          "execution_count": 18
        }
      ]
    },
    {
      "cell_type": "markdown",
      "metadata": {
        "id": "TX3wA-N1xRsT",
        "colab_type": "text"
      },
      "source": [
        "## Training and Evaluation\n",
        "\n",
        "First up... we'll use a basic linear regression model:"
      ]
    },
    {
      "cell_type": "code",
      "metadata": {
        "id": "n7hLLNctyLph",
        "colab_type": "code",
        "outputId": "c25b3126-8b04-4c34-8a5e-a9a0b822a25d",
        "colab": {
          "base_uri": "https://localhost:8080/",
          "height": 34
        }
      },
      "source": [
        "from sklearn.linear_model import LinearRegression\n",
        "\n",
        "# LinearRegression constructor\n",
        "lin_reg = LinearRegression()\n",
        "\n",
        "# fit the training data and training labels\n",
        "lin_reg.fit(X_prepared, y_train)"
      ],
      "execution_count": 19,
      "outputs": [
        {
          "output_type": "execute_result",
          "data": {
            "text/plain": [
              "LinearRegression(copy_X=True, fit_intercept=True, n_jobs=None, normalize=False)"
            ]
          },
          "metadata": {
            "tags": []
          },
          "execution_count": 19
        }
      ]
    },
    {
      "cell_type": "markdown",
      "metadata": {
        "id": "EAem0NHuygmT",
        "colab_type": "text"
      },
      "source": [
        "Let's view some of our data and see how the model did:"
      ]
    },
    {
      "cell_type": "code",
      "metadata": {
        "id": "odYaLvY2yfrX",
        "colab_type": "code",
        "outputId": "932618bd-2350-452c-9025-3f72de7ef8fe",
        "colab": {
          "base_uri": "https://localhost:8080/",
          "height": 51
        }
      },
      "source": [
        "# view 5 instances of the training data and labels\n",
        "some_data = X_train.iloc[:5]\n",
        "some_labels = y_train.iloc[:5]\n",
        "\n",
        "# transform our 5 instances through our pipeline\n",
        "some_data_prepared = full_pipeline.fit_transform(some_data)\n",
        "\n",
        "# print the results\n",
        "print('Predictions: ', lin_reg.predict(some_data_prepared))\n",
        "print('Labels: ', list(some_labels))"
      ],
      "execution_count": 20,
      "outputs": [
        {
          "output_type": "stream",
          "text": [
            "Predictions:  [385.         382.15274595 293.41180165 162.43602741  15.8       ]\n",
            "Labels:  [23.889999, 23.83, 21.959999, 19.200001, 16.110001]\n"
          ],
          "name": "stdout"
        }
      ]
    },
    {
      "cell_type": "markdown",
      "metadata": {
        "id": "h4emYF490c5t",
        "colab_type": "text"
      },
      "source": [
        "Looks pretty good based on the first few lines!\n",
        "\n",
        "For a more robust look, let's measure the regression model's Root Mean Squared Error (RMSE) for the whole training set using Scikit-Learn's `mean_squared_error` function."
      ]
    },
    {
      "cell_type": "code",
      "metadata": {
        "id": "uA0NGHgA0eDS",
        "colab_type": "code",
        "outputId": "fd785904-8c4e-4a26-8ea5-2a0e5cecafbe",
        "colab": {
          "base_uri": "https://localhost:8080/",
          "height": 34
        }
      },
      "source": [
        "from sklearn.metrics import mean_squared_error\n",
        "\n",
        "# predict the value of the stock using the prepared features\n",
        "y_preds = lin_reg.predict(X_prepared)\n",
        "\n",
        "# calculate error from training labels and predictions\n",
        "lin_mse = mean_squared_error(y_train, y_preds)\n",
        "\n",
        "# take the square root\n",
        "lin_rmse = np.sqrt(lin_mse)\n",
        "lin_rmse"
      ],
      "execution_count": 21,
      "outputs": [
        {
          "output_type": "execute_result",
          "data": {
            "text/plain": [
              "9.186315141900932e-14"
            ]
          },
          "metadata": {
            "tags": []
          },
          "execution_count": 21
        }
      ]
    },
    {
      "cell_type": "markdown",
      "metadata": {
        "id": "9C1ikeht4mJW",
        "colab_type": "text"
      },
      "source": [
        "An error of almost zero?!  Our model is perfect!  Quick, let's put this into production and get rich now!\n",
        "\n",
        "Or... the model is badly overfitting the data.  Let's graph our results to see what's going on:"
      ]
    },
    {
      "cell_type": "code",
      "metadata": {
        "id": "yN_Fz5dx2kMW",
        "colab_type": "code",
        "outputId": "18a95371-7eb7-4cfa-a99e-1ab5d44b9792",
        "colab": {
          "base_uri": "https://localhost:8080/",
          "height": 400
        }
      },
      "source": [
        "f, ax = plt.subplots(figsize=(8,6))\n",
        "ax = sns.lineplot(x = X_train['Date'].apply(dt.datetime.fromordinal), y = y_train)\n",
        "ax = sns.lineplot(x = X_train['Date'].apply(dt.datetime.fromordinal), y = y_preds);"
      ],
      "execution_count": 22,
      "outputs": [
        {
          "output_type": "display_data",
          "data": {
            "image/png": "[encoded data removed]",
            "text/plain": [
              "<Figure size 576x432 with 1 Axes>"
            ]
          },
          "metadata": {
            "tags": []
          }
        }
      ]
    },
    {
      "cell_type": "markdown",
      "metadata": {
        "id": "vPnWb_771b82",
        "colab_type": "text"
      },
      "source": [
        "Indeed, we have precisely overfit our data!  Meaning that the model is not generalizing well.  Let's try another model before moving into more evaluation:"
      ]
    },
    {
      "cell_type": "code",
      "metadata": {
        "id": "n3j1N-Dp8otI",
        "colab_type": "code",
        "outputId": "436f1431-9b1f-4b61-ce39-8e7b4eba0a94",
        "colab": {
          "base_uri": "https://localhost:8080/",
          "height": 102
        }
      },
      "source": [
        "from sklearn.tree import DecisionTreeRegressor\n",
        "\n",
        "# Decision Tree constructor\n",
        "tree_reg = DecisionTreeRegressor()\n",
        "\n",
        "# fit the prepared stock data and prices\n",
        "tree_reg.fit(X_prepared, y_train)"
      ],
      "execution_count": 23,
      "outputs": [
        {
          "output_type": "execute_result",
          "data": {
            "text/plain": [
              "DecisionTreeRegressor(criterion='mse', max_depth=None, max_features=None,\n",
              "                      max_leaf_nodes=None, min_impurity_decrease=0.0,\n",
              "                      min_impurity_split=None, min_samples_leaf=1,\n",
              "                      min_samples_split=2, min_weight_fraction_leaf=0.0,\n",
              "                      presort=False, random_state=None, splitter='best')"
            ]
          },
          "metadata": {
            "tags": []
          },
          "execution_count": 23
        }
      ]
    },
    {
      "cell_type": "code",
      "metadata": {
        "id": "Ort2NbcP83j-",
        "colab_type": "code",
        "outputId": "b4566660-735f-44a0-8c58-49ddc716fb77",
        "colab": {
          "base_uri": "https://localhost:8080/",
          "height": 34
        }
      },
      "source": [
        "# predict the stock prices using our decision tree model\n",
        "price_preds = tree_reg.predict(X_prepared)\n",
        "\n",
        "# calculate the error from the price and predictions\n",
        "tree_mse = mean_squared_error(y_train, price_preds)\n",
        "tree_rmse = np.sqrt(tree_mse)\n",
        "tree_rmse"
      ],
      "execution_count": 24,
      "outputs": [
        {
          "output_type": "execute_result",
          "data": {
            "text/plain": [
              "1.904910645259121e-16"
            ]
          },
          "metadata": {
            "tags": []
          },
          "execution_count": 24
        }
      ]
    },
    {
      "cell_type": "markdown",
      "metadata": {
        "id": "n4G0-HA_9RXl",
        "colab_type": "text"
      },
      "source": [
        "An error of 0!  It looks like our decision tree model is also overfitting our data badly!  To get a better understanding of what's happening, let's use some of Scikit-Learn's cross-validation features."
      ]
    },
    {
      "cell_type": "markdown",
      "metadata": {
        "id": "2Hnpawr5nAJq",
        "colab_type": "text"
      },
      "source": [
        "## Cross Validation\n",
        "Since classical cross-validation techniques will choose random testing and validation sets, we will need to consider the time series effects on our data.\n",
        "\n",
        "Luckily, Scikit-Learn has the `TimeSeriesSplit` tool to help us do exactly that.  It is a varation on the *k-fold* cross-validation technique that uses subsequent folds as testing sets.\n",
        "\n",
        "![](https://scikit-learn.org/stable/_images/sphx_glr_plot_cv_indices_0101.png)"
      ]
    },
    {
      "cell_type": "code",
      "metadata": {
        "id": "7BrXQDw5nsko",
        "colab_type": "code",
        "colab": {}
      },
      "source": [
        "from sklearn.model_selection import TimeSeriesSplit, cross_val_score\n",
        "\n",
        "# create 10 sequential splits from the training data\n",
        "tscv = TimeSeriesSplit(n_splits = 5)\n",
        "\n",
        "# calculate MSE scores\n",
        "lin_scores = cross_val_score(lin_reg, X_prepared, y_train, scoring = 'neg_mean_squared_error', cv = tscv)\n",
        "\n",
        "# take square root\n",
        "lin_reg_rmse_scores = np.sqrt(-lin_scores)"
      ],
      "execution_count": 0,
      "outputs": []
    },
    {
      "cell_type": "code",
      "metadata": {
        "id": "mZSnHcHf5vh8",
        "colab_type": "code",
        "outputId": "e55451cc-c3b8-4fc8-a911-94e0a75c0083",
        "colab": {
          "base_uri": "https://localhost:8080/",
          "height": 85
        }
      },
      "source": [
        "# function to display scores\n",
        "def display_scores(scores):\n",
        "  print('Scores: ', scores)\n",
        "  print('Mean: ', scores.mean())\n",
        "  print('Standard Deviation: ', scores.std())\n",
        "\n",
        "# show linear regression scores\n",
        "display_scores(lin_reg_rmse_scores)"
      ],
      "execution_count": 26,
      "outputs": [
        {
          "output_type": "stream",
          "text": [
            "Scores:  [5.03875430e-15 1.85184766e-14 1.17473404e-13 6.79604572e-14\n",
            " 1.70973344e-13]\n",
            "Mean:  7.599288722767569e-14\n",
            "Standard Deviation:  6.187768124908992e-14\n"
          ],
          "name": "stdout"
        }
      ]
    },
    {
      "cell_type": "markdown",
      "metadata": {
        "id": "k_5smLOg-4yM",
        "colab_type": "text"
      },
      "source": [
        "Let's see how our decision tree compares:"
      ]
    },
    {
      "cell_type": "code",
      "metadata": {
        "id": "XtnpTVPf8TDa",
        "colab_type": "code",
        "outputId": "e54fe0ae-f29c-4722-bb37-ef53d878610c",
        "colab": {
          "base_uri": "https://localhost:8080/",
          "height": 68
        }
      },
      "source": [
        "# calculate MSE scores\n",
        "tree_scores = cross_val_score(tree_reg, X_prepared, y_train, scoring = 'neg_mean_squared_error', cv = tscv)\n",
        "\n",
        "# take square root\n",
        "tree_reg_rmse_scores = np.sqrt(-tree_scores)\n",
        "\n",
        "# show decision tree scores\n",
        "display_scores(tree_reg_rmse_scores)"
      ],
      "execution_count": 27,
      "outputs": [
        {
          "output_type": "stream",
          "text": [
            "Scores:  [  1.36832072 135.74142589   4.3022191    9.09250188  19.70199542]\n",
            "Mean:  34.04129260304806\n",
            "Standard Deviation:  51.23067498570127\n"
          ],
          "name": "stdout"
        }
      ]
    },
    {
      "cell_type": "markdown",
      "metadata": {
        "id": "s3iRoT62AxGI",
        "colab_type": "text"
      },
      "source": [
        "Lastly, let's try an Elastic Net model to introduce regularization and better generalization to our predictions:"
      ]
    },
    {
      "cell_type": "code",
      "metadata": {
        "id": "F92D4Yb9-Qzv",
        "colab_type": "code",
        "outputId": "ef97e482-14c6-4df6-fd40-f1d6b33ccc74",
        "colab": {
          "base_uri": "https://localhost:8080/",
          "height": 68
        }
      },
      "source": [
        "from sklearn.linear_model import ElasticNet\n",
        "\n",
        "elastic_net = ElasticNet(alpha = 0.1, l1_ratio = 0.5)\n",
        "elastic_net.fit(X_prepared, y_train)\n",
        "\n",
        "elastic_scores = cross_val_score(elastic_net, X_prepared, y_train, scoring = 'neg_mean_squared_error', cv = tscv)\n",
        "elastic_rmse_scores = np.sqrt(-elastic_scores)\n",
        "\n",
        "training_preds = elastic_net.predict(X_prepared)\n",
        "\n",
        "display_scores(elastic_rmse_scores)"
      ],
      "execution_count": 28,
      "outputs": [
        {
          "output_type": "stream",
          "text": [
            "Scores:  [  7.74495195 147.3417674   37.81264698  12.10931525  24.17637922]\n",
            "Mean:  45.83701215838635\n",
            "Standard Deviation:  51.81766374799888\n"
          ],
          "name": "stdout"
        }
      ]
    },
    {
      "cell_type": "markdown",
      "metadata": {
        "id": "zuu73IlbGS5I",
        "colab_type": "text"
      },
      "source": [
        "# Evaluate the Model\n",
        "\n",
        "Let's use our model to predict the test set!"
      ]
    },
    {
      "cell_type": "code",
      "metadata": {
        "id": "IGQM5HB_GbAF",
        "colab_type": "code",
        "outputId": "681ef889-b68d-42d4-9662-7478b73cd244",
        "colab": {
          "base_uri": "https://localhost:8080/",
          "height": 204
        }
      },
      "source": [
        "X_test.head()"
      ],
      "execution_count": 29,
      "outputs": [
        {
          "output_type": "execute_result",
          "data": {
            "text/html": [
              "<div>\n",
              "<style scoped>\n",
              "    .dataframe tbody tr th:only-of-type {\n",
              "        vertical-align: middle;\n",
              "    }\n",
              "\n",
              "    .dataframe tbody tr th {\n",
              "        vertical-align: top;\n",
              "    }\n",
              "\n",
              "    .dataframe thead th {\n",
              "        text-align: right;\n",
              "    }\n",
              "</style>\n",
              "<table border=\"1\" class=\"dataframe\">\n",
              "  <thead>\n",
              "    <tr style=\"text-align: right;\">\n",
              "      <th></th>\n",
              "      <th>Date</th>\n",
              "      <th>Open</th>\n",
              "      <th>High</th>\n",
              "      <th>Low</th>\n",
              "      <th>Close</th>\n",
              "      <th>Volume</th>\n",
              "    </tr>\n",
              "  </thead>\n",
              "  <tbody>\n",
              "    <tr>\n",
              "      <th>2087</th>\n",
              "      <td>736978</td>\n",
              "      <td>257.529999</td>\n",
              "      <td>262.250000</td>\n",
              "      <td>249.029999</td>\n",
              "      <td>252.229996</td>\n",
              "      <td>8167700</td>\n",
              "    </tr>\n",
              "    <tr>\n",
              "      <th>2088</th>\n",
              "      <td>736979</td>\n",
              "      <td>261.000000</td>\n",
              "      <td>261.989990</td>\n",
              "      <td>252.009995</td>\n",
              "      <td>258.779999</td>\n",
              "      <td>7201400</td>\n",
              "    </tr>\n",
              "    <tr>\n",
              "      <th>2089</th>\n",
              "      <td>736982</td>\n",
              "      <td>259.059998</td>\n",
              "      <td>263.279999</td>\n",
              "      <td>254.539993</td>\n",
              "      <td>259.589996</td>\n",
              "      <td>6200000</td>\n",
              "    </tr>\n",
              "    <tr>\n",
              "      <th>2090</th>\n",
              "      <td>736983</td>\n",
              "      <td>265.700012</td>\n",
              "      <td>277.380005</td>\n",
              "      <td>262.239990</td>\n",
              "      <td>276.589996</td>\n",
              "      <td>9526400</td>\n",
              "    </tr>\n",
              "    <tr>\n",
              "      <th>2091</th>\n",
              "      <td>736984</td>\n",
              "      <td>282.399994</td>\n",
              "      <td>282.700012</td>\n",
              "      <td>265.799988</td>\n",
              "      <td>271.779999</td>\n",
              "      <td>8655500</td>\n",
              "    </tr>\n",
              "  </tbody>\n",
              "</table>\n",
              "</div>"
            ],
            "text/plain": [
              "        Date        Open        High         Low       Close   Volume\n",
              "2087  736978  257.529999  262.250000  249.029999  252.229996  8167700\n",
              "2088  736979  261.000000  261.989990  252.009995  258.779999  7201400\n",
              "2089  736982  259.059998  263.279999  254.539993  259.589996  6200000\n",
              "2090  736983  265.700012  277.380005  262.239990  276.589996  9526400\n",
              "2091  736984  282.399994  282.700012  265.799988  271.779999  8655500"
            ]
          },
          "metadata": {
            "tags": []
          },
          "execution_count": 29
        }
      ]
    },
    {
      "cell_type": "code",
      "metadata": {
        "id": "LCmpaQA8GdPB",
        "colab_type": "code",
        "colab": {}
      },
      "source": [
        "X_test_prepared = full_pipeline.fit_transform(X_test)\n",
        "\n",
        "final_predictions = elastic_net.predict(X_test_prepared)"
      ],
      "execution_count": 0,
      "outputs": []
    },
    {
      "cell_type": "code",
      "metadata": {
        "id": "uvM051DZGkJO",
        "colab_type": "code",
        "outputId": "21909030-1acb-42c6-ee57-440783c6d484",
        "colab": {
          "base_uri": "https://localhost:8080/",
          "height": 34
        }
      },
      "source": [
        "final_mse_score = mean_squared_error(y_test, final_predictions)\n",
        "final_rmse_score = np.sqrt(final_mse_score)\n",
        "final_rmse_score"
      ],
      "execution_count": 31,
      "outputs": [
        {
          "output_type": "execute_result",
          "data": {
            "text/plain": [
              "85.59254319004303"
            ]
          },
          "metadata": {
            "tags": []
          },
          "execution_count": 31
        }
      ]
    },
    {
      "cell_type": "code",
      "metadata": {
        "id": "XwVTmG33K-YU",
        "colab_type": "code",
        "outputId": "188221be-4f6c-4e63-d6f6-23420c01f66b",
        "colab": {
          "base_uri": "https://localhost:8080/",
          "height": 400
        }
      },
      "source": [
        "f, ax = plt.subplots(figsize=(8,6))\n",
        "ax = sns.lineplot(x = X_test['Date'].apply(dt.datetime.fromordinal), y = final_predictions, label = 'Elastic Net')\n",
        "ax = sns.lineplot(x = X_test['Date'].apply(dt.datetime.fromordinal), y = tree_reg.predict(X_test_prepared), label = 'Decision Tree')\n",
        "ax = sns.lineplot(x = X_test['Date'].apply(dt.datetime.fromordinal), y = lin_reg.predict(X_test_prepared), label = 'Linear Regression')\n",
        "ax = sns.lineplot(x = X_test['Date'].apply(dt.datetime.fromordinal), y = y_test, label = 'True')\n",
        "ax = sns.lineplot(x = X_train['Date'].apply(dt.datetime.fromordinal), y = y_train, label = 'Training')"
      ],
      "execution_count": 33,
      "outputs": [
        {
          "output_type": "display_data",
          "data": {
            "image/png": "[encoded data removed]",
            "text/plain": [
              "<Figure size 576x432 with 1 Axes>"
            ]
          },
          "metadata": {
            "tags": []
          }
        }
      ]
    },
    {
      "cell_type": "code",
      "metadata": {
        "id": "r_8Q8XVBHKqE",
        "colab_type": "code",
        "outputId": "ac9b05c3-8104-4de6-d607-439d0c42fe4b",
        "colab": {
          "base_uri": "https://localhost:8080/",
          "height": 400
        }
      },
      "source": [
        "f, ax = plt.subplots(figsize=(8,6))\n",
        "ax = sns.lineplot(x = X_test['Date'].apply(dt.datetime.fromordinal), y = final_predictions, label = 'Elastic Net', alpha = 0.8)\n",
        "ax = sns.lineplot(x = X_test['Date'].apply(dt.datetime.fromordinal), y = tree_reg.predict(X_test_prepared), label = 'Decision Tree', alpha = 0.8)\n",
        "ax = sns.lineplot(x = X_test['Date'].apply(dt.datetime.fromordinal), y = lin_reg.predict(X_test_prepared), label = 'Linear Regression', alpha = 0.8)\n",
        "ax = sns.lineplot(x = X_test['Date'].apply(dt.datetime.fromordinal), y = y_test, label = 'True', alpha = 0.8)"
      ],
      "execution_count": 34,
      "outputs": [
        {
          "output_type": "display_data",
          "data": {
            "image/png": "[encoded data removed]",
            "text/plain": [
              "<Figure size 576x432 with 1 Axes>"
            ]
          },
          "metadata": {
            "tags": []
          }
        }
      ]
    },
    {
      "cell_type": "code",
      "metadata": {
        "id": "cBW7claaHwKt",
        "colab_type": "code",
        "colab": {}
      },
      "source": [
        ""
      ],
      "execution_count": 0,
      "outputs": []
    }
  ]
}